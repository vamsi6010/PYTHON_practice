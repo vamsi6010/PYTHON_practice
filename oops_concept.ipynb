{
  "nbformat": 4,
  "nbformat_minor": 0,
  "metadata": {
    "colab": {
      "name": "oops_concept.ipynb",
      "provenance": [],
      "collapsed_sections": [],
      "authorship_tag": "ABX9TyOcwfPNlaR4COEDqEu2JpGk",
      "include_colab_link": true
    },
    "kernelspec": {
      "name": "python3",
      "display_name": "Python 3"
    },
    "language_info": {
      "name": "python"
    }
  },
  "cells": [
    {
      "cell_type": "markdown",
      "metadata": {
        "id": "view-in-github",
        "colab_type": "text"
      },
      "source": [
        "<a href=\"https://colab.research.google.com/github/vamsi6010/PYTHON_practice/blob/main/oops_concept.ipynb\" target=\"_parent\"><img src=\"https://colab.research.google.com/assets/colab-badge.svg\" alt=\"Open In Colab\"/></a>"
      ]
    },
    {
      "cell_type": "code",
      "metadata": {
        "id": "BEVxnVUsp7et"
      },
      "source": [
        "#object oriented programming"
      ],
      "execution_count": null,
      "outputs": []
    },
    {
      "cell_type": "code",
      "metadata": {
        "colab": {
          "base_uri": "https://localhost:8080/"
        },
        "id": "8LihYYSVqAw1",
        "outputId": "ae58af96-847d-4178-c3c5-a84bee3cf6e1"
      },
      "source": [
        "class comp:\n",
        "  def config(self):\n",
        "    print(\"2gb ram 32 gb rom 4k display\")\n",
        "c1 = comp()\n",
        "comp.config(c1) # 1st syntax to call a method inside a class\n",
        "c1.config()     # 2nd syntax to call a method inside a class using object"
      ],
      "execution_count": null,
      "outputs": [
        {
          "output_type": "stream",
          "text": [
            "2gb ram 32 gb rom 4k display\n",
            "2gb ram 32 gb rom 4k display\n"
          ],
          "name": "stdout"
        }
      ]
    },
    {
      "cell_type": "code",
      "metadata": {
        "colab": {
          "base_uri": "https://localhost:8080/"
        },
        "id": "OsO3oVf4qSFo",
        "outputId": "c9b73936-0db2-46e4-9c62-e173753fb6ae"
      },
      "source": [
        "class comp:\n",
        "  def __init__(self,cpu,ram):\n",
        "    self.a=cpu\n",
        "    self.b=ram\n",
        "  def config(self):\n",
        "    print(\"config is \",self.a, self.b)\n",
        "com1 = comp(\"i5\", 12)\n",
        "com2 = comp(\"ryzen\", 16)\n",
        "com1.config()\n",
        "com2.config()"
      ],
      "execution_count": null,
      "outputs": [
        {
          "output_type": "stream",
          "text": [
            "config is  i5 12\n",
            "config is  ryzen 16\n"
          ],
          "name": "stdout"
        }
      ]
    },
    {
      "cell_type": "code",
      "metadata": {
        "colab": {
          "base_uri": "https://localhost:8080/"
        },
        "id": "2w1XkbaTxvyo",
        "outputId": "311efe21-79be-4ee8-8e99-a859a86781f0"
      },
      "source": [
        "class computer:\n",
        "  def __init__(self):# self points to the object that we are working at that time \n",
        "    self.name = \"krish\"\n",
        "    self.age = 22\n",
        "  def compare(self, another):#here self is c1 and c2 is loaded in to another \n",
        "    if self.age == another.age:\n",
        "      return True\n",
        "    else:\n",
        "      return False\n",
        "c1 = computer()\n",
        "c1.age = 18\n",
        "c2 = computer()\n",
        "c2.name = 'rahim'\n",
        "if c1.compare(c2):\n",
        "  print(\"they are same\")\n",
        "else:\n",
        "  print(\"they are not same\")\n",
        "print(c1.name)\n",
        "print(c2.name)"
      ],
      "execution_count": null,
      "outputs": [
        {
          "output_type": "stream",
          "text": [
            "they are not same\n",
            "krish\n",
            "rahim\n"
          ],
          "name": "stdout"
        }
      ]
    },
    {
      "cell_type": "code",
      "metadata": {
        "colab": {
          "base_uri": "https://localhost:8080/"
        },
        "id": "lhu7GK8PrJZ6",
        "outputId": "09f3a9df-f452-47cc-e073-963de4218163"
      },
      "source": [
        "# user input for an object \n",
        "class car:\n",
        "  wheels = 4 # calss variable it is same for all objects \n",
        "  def __init__(self):\n",
        "    self.name = input()\n",
        "    self.millege = int(input())\n",
        "  def exec(self):\n",
        "    print(self.name,self.millege,self.wheels)\n",
        "\n",
        "c1 = car()\n",
        "c2 = car()\n",
        "c1.exec()\n",
        "c2.exec()"
      ],
      "execution_count": null,
      "outputs": [
        {
          "output_type": "stream",
          "text": [
            "bmw\n",
            "232\n",
            "audi\n",
            "124\n",
            "bmw 232 4\n",
            "audi 124 4\n"
          ],
          "name": "stdout"
        }
      ]
    },
    {
      "cell_type": "code",
      "metadata": {
        "colab": {
          "base_uri": "https://localhost:8080/"
        },
        "id": "CbM4yk4o3ibw",
        "outputId": "6b1697be-c8b0-4793-e693-7a6740e6f464"
      },
      "source": [
        "#types of methods\n",
        "# instance method \n",
        "class DecoratorExample:\n",
        "  \"\"\" Example Class \"\"\"\n",
        "  def __init__(self):\n",
        "    \"\"\" Example Setup \"\"\"\n",
        "    print('Hello, World!')\n",
        "    self.name = 'Decorator_Example'\n",
        "  def example_function(self):\n",
        "    \"\"\" This method is an instance method! \"\"\"\n",
        "    print('I\\'m an instance method!')\n",
        "    print('My name is ' + self.name)\n",
        " \n",
        "de = DecoratorExample()\n",
        "de.example_function()"
      ],
      "execution_count": null,
      "outputs": [
        {
          "output_type": "stream",
          "text": [
            "Hello, World!\n",
            "I'm an instance method!\n",
            "My name is Decorator_Example\n"
          ],
          "name": "stdout"
        }
      ]
    },
    {
      "cell_type": "code",
      "metadata": {
        "colab": {
          "base_uri": "https://localhost:8080/"
        },
        "id": "GUymb6PE1t2Z",
        "outputId": "3366ad6c-683b-4807-e083-c3fc9fedadaf"
      },
      "source": [
        "# static method \n",
        "class DecoratorExample:\n",
        "  \"\"\" Example Class \"\"\"\n",
        "  def __init__(self):\n",
        "    \"\"\" Example Setup \"\"\"\n",
        "    print('Hello, World!') \n",
        "  @staticmethod\n",
        "  def example_function():\n",
        "    \"\"\" This method is a static method! \"\"\"\n",
        "    print('I\\'m a static method!')\n",
        " \n",
        "de = DecoratorExample.example_function()"
      ],
      "execution_count": null,
      "outputs": [
        {
          "output_type": "stream",
          "text": [
            "I'm a static method!\n"
          ],
          "name": "stdout"
        }
      ]
    },
    {
      "cell_type": "code",
      "metadata": {
        "colab": {
          "base_uri": "https://localhost:8080/"
        },
        "id": "-s1liIBLBLEF",
        "outputId": "cf301815-025f-48d7-a9a9-e1c7ee5349f7"
      },
      "source": [
        "# class method \n",
        "class DecoratorExample:\n",
        "  \"\"\" Example Class \"\"\"\n",
        "  def __init__(self):\n",
        "    \"\"\" Example Setup \"\"\"\n",
        "    print('Hello, World!') \n",
        "  @classmethod\n",
        "  def example_function(cls):\n",
        "    \"\"\" This method is a class method! \"\"\"\n",
        "    print('I\\'m a class method!')\n",
        "    cls.some_other_function()\n",
        "  @staticmethod\n",
        "  def some_other_function():\n",
        "    print('Hello!')\n",
        " \n",
        "de = DecoratorExample()\n",
        "de.example_function()"
      ],
      "execution_count": null,
      "outputs": [
        {
          "output_type": "stream",
          "text": [
            "Hello, World!\n",
            "I'm a class method!\n",
            "Hello!\n"
          ],
          "name": "stdout"
        }
      ]
    },
    {
      "cell_type": "code",
      "metadata": {
        "colab": {
          "base_uri": "https://localhost:8080/"
        },
        "id": "XiFj7e98B2A-",
        "outputId": "7514f79e-47d6-4133-c07d-4d10e4fad717"
      },
      "source": [
        "#inner class \n",
        "class student:\n",
        "  def __init__(self,name,roll):\n",
        "    self.name = name \n",
        "    self.roll = roll \n",
        "    self.lap = self.laptop()\n",
        "  def show(self):\n",
        "    print(self.name,self.roll)\n",
        "    self.lap.show()\n",
        "  class laptop:\n",
        "    def __init__(self):\n",
        "      self.brand = \"HP\"\n",
        "      self.cpu=\"i5\"\n",
        "      self.ram = 8\n",
        "    def show(self):\n",
        "      print(self.brand,self.cpu,self.ram)\n",
        "s1 = student('vamsi',11)\n",
        "s2 = student('dada',21)\n",
        "a = [s1,s2]\n",
        "for i in a:\n",
        "  i.show()"
      ],
      "execution_count": null,
      "outputs": [
        {
          "output_type": "stream",
          "text": [
            "vamsi 11\n",
            "HP i5 8\n",
            "dada 21\n",
            "HP i5 8\n"
          ],
          "name": "stdout"
        }
      ]
    },
    {
      "cell_type": "code",
      "metadata": {
        "colab": {
          "base_uri": "https://localhost:8080/"
        },
        "id": "6ezt4x4-Ic5P",
        "outputId": "a882ae74-2d29-42b0-d000-3a032af2525d"
      },
      "source": [
        "#inheritance\n",
        "class a:\n",
        "  def feat1(self):\n",
        "    print('feat 1 working')\n",
        "  def feat2(self):\n",
        "    print('feat 2 working')\n",
        "class b(a):# her by giving class a as argument to class b whe are defining class b as child class to class b \n",
        "  def feat3(self):\n",
        "    print('feat 3 working')\n",
        "  def feat4(self):\n",
        "    print('feat 4 working')         \n",
        "a1 = a()\n",
        "a1.feat1()\n",
        "a1.feat2()\n",
        "b1 = b()\n",
        "b1.feat1()\n",
        "b1.feat2()\n",
        "b1.feat3()\n",
        "b1.feat4()\n",
        "# if class b is inherited in to another calss c becomes parent class of c  -it is called as multi level inheritance\n"
      ],
      "execution_count": null,
      "outputs": [
        {
          "output_type": "stream",
          "text": [
            "feat 1 working\n",
            "feat 2 working\n",
            "feat 1 working\n",
            "feat 2 working\n",
            "feat 3 working\n",
            "feat 4 working\n"
          ],
          "name": "stdout"
        }
      ]
    },
    {
      "cell_type": "code",
      "metadata": {
        "colab": {
          "base_uri": "https://localhost:8080/"
        },
        "id": "tlCP5dGSLDLs",
        "outputId": "ee71dd32-02c6-47de-b851-441154a64956"
      },
      "source": [
        "class a:\n",
        "  def aaa(self):\n",
        "    print('s')\n",
        "class b(a):\n",
        "  def aasd(self):\n",
        "    print('d')\n",
        "a1 = a()\n",
        "b1=b()\n",
        "a1.aaa()\n",
        "b1.aaa()"
      ],
      "execution_count": null,
      "outputs": [
        {
          "output_type": "stream",
          "text": [
            "s\n"
          ],
          "name": "stdout"
        }
      ]
    },
    {
      "cell_type": "code",
      "metadata": {
        "colab": {
          "base_uri": "https://localhost:8080/"
        },
        "id": "fjG2WtjpLusb",
        "outputId": "bd42d1e5-88ab-42f5-e12f-aec8b2134687"
      },
      "source": [
        " class MyClass: \n",
        "   x = 5 ** 10 \n",
        "p1 = MyClass() \n",
        "print(p1.x)"
      ],
      "execution_count": null,
      "outputs": [
        {
          "output_type": "stream",
          "text": [
            "9765625\n"
          ],
          "name": "stdout"
        }
      ]
    },
    {
      "cell_type": "code",
      "metadata": {
        "colab": {
          "base_uri": "https://localhost:8080/"
        },
        "id": "8rikaM_-M6Iu",
        "outputId": "fb50e468-b43a-42fc-d661-d969518b1089"
      },
      "source": [
        "# fibinocci series\n",
        "nterms = int(input(\"How many terms? \"))\n",
        "n1, n2 = 0, 1\n",
        "count = 0\n",
        "if nterms <= 0:\n",
        "   print(\"Please enter a positive integer\")\n",
        "elif nterms == 1:\n",
        "   print(\"Fibonacci sequence upto\",nterms,\":\")\n",
        "   print(n1)\n",
        "else:\n",
        "   print(\"Fibonacci sequence:\")\n",
        "   while count < nterms:\n",
        "       print(n1)\n",
        "       nth = n1 + n2\n",
        "       # update values\n",
        "       n1 = n2\n",
        "       n2 = nth\n",
        "       count += 1"
      ],
      "execution_count": null,
      "outputs": [
        {
          "output_type": "stream",
          "text": [
            "How many terms? 4\n",
            "Fibonacci sequence:\n",
            "0\n",
            "1\n",
            "1\n",
            "2\n"
          ],
          "name": "stdout"
        }
      ]
    },
    {
      "cell_type": "code",
      "metadata": {
        "colab": {
          "base_uri": "https://localhost:8080/"
        },
        "id": "dEqyMM36PTV9",
        "outputId": "95542079-3e46-4769-9ca1-2731a5f15b8b"
      },
      "source": [
        "class a:\n",
        "  def __init__(self):\n",
        "    print(\"in it of A\")\n",
        "  def aaa(self):\n",
        "    print('s')\n",
        "class b(a):\n",
        "  def __init__(self):\n",
        "    print(\"in it of b\")\n",
        "    super().__init__()\n",
        "  def aasd(self):\n",
        "    print('d')\n",
        "a1 = b()"
      ],
      "execution_count": null,
      "outputs": [
        {
          "output_type": "stream",
          "text": [
            "in it of b\n",
            "in it of A\n"
          ],
          "name": "stdout"
        }
      ]
    }
  ]
}