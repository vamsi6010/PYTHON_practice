{
  "nbformat": 4,
  "nbformat_minor": 0,
  "metadata": {
    "colab": {
      "name": "python_practice.ipynb",
      "provenance": [],
      "collapsed_sections": [],
      "mount_file_id": "1_FL9XWfxm-qBwMDvXr_LIJYsXsDrhHnX",
      "authorship_tag": "ABX9TyMAZl9BXsnXr6HJvyN3NjHd",
      "include_colab_link": true
    },
    "kernelspec": {
      "name": "python3",
      "display_name": "Python 3"
    },
    "language_info": {
      "name": "python"
    }
  },
  "cells": [
    {
      "cell_type": "markdown",
      "metadata": {
        "id": "view-in-github",
        "colab_type": "text"
      },
      "source": [
        "<a href=\"https://colab.research.google.com/github/vamsi6010/PYTHON_practice/blob/main/python_practice.ipynb\" target=\"_parent\"><img src=\"https://colab.research.google.com/assets/colab-badge.svg\" alt=\"Open In Colab\"/></a>"
      ]
    },
    {
      "cell_type": "code",
      "metadata": {
        "colab": {
          "base_uri": "https://localhost:8080/"
        },
        "id": "3kZgxgAF0sDV",
        "outputId": "a338b8cd-fe7a-44a1-d3e2-fc217e13a24f"
      },
      "source": [
        "a = int(input())\n",
        "b = (a*(9/5))+(32)\n",
        "print(b)"
      ],
      "execution_count": null,
      "outputs": [
        {
          "output_type": "stream",
          "text": [
            "0\n",
            "32.0\n"
          ],
          "name": "stdout"
        }
      ]
    },
    {
      "cell_type": "code",
      "metadata": {
        "colab": {
          "base_uri": "https://localhost:8080/"
        },
        "id": "scdqecJ-2DGo",
        "outputId": "fbf03246-252b-48de-fe34-84304ba10c63"
      },
      "source": [
        "#5\n",
        "import math \n",
        "a = float(input())\n",
        "h = math.pi\n",
        "c = 2*h*a\n",
        "if c>= 0:\n",
        "  print('{:.2f}' .format(c))\n",
        "else:\n",
        "  print(\"Error\")"
      ],
      "execution_count": null,
      "outputs": [
        {
          "output_type": "stream",
          "text": [
            "2\n",
            "12.57\n"
          ],
          "name": "stdout"
        }
      ]
    },
    {
      "cell_type": "code",
      "metadata": {
        "colab": {
          "base_uri": "https://localhost:8080/"
        },
        "id": "I7QnPJkgC0lr",
        "outputId": "989ed657-2971-4010-9e10-5bdec5dba4b4"
      },
      "source": [
        "n = int(input())\n",
        "r = range(1,(n+1),1)\n",
        "#l = list(r)\n",
        "print(l)\n",
        "f =1\n",
        "for i in l:\n",
        "  f = f*i\n",
        "print(f)"
      ],
      "execution_count": null,
      "outputs": [
        {
          "output_type": "stream",
          "text": [
            "3\n",
            "[1, 2, 3]\n",
            "6\n"
          ],
          "name": "stdout"
        }
      ]
    },
    {
      "cell_type": "code",
      "metadata": {
        "id": "ej1_TEhCnuVH"
      },
      "source": [
        ""
      ],
      "execution_count": null,
      "outputs": []
    },
    {
      "cell_type": "code",
      "metadata": {
        "colab": {
          "base_uri": "https://localhost:8080/"
        },
        "id": "tlkddyd7EQUD",
        "outputId": "6069de8a-b488-41a9-dc67-8738a45b9afb"
      },
      "source": [
        "n = int(input())\n",
        "c = n*n*n\n",
        "print(c)"
      ],
      "execution_count": null,
      "outputs": [
        {
          "output_type": "stream",
          "text": [
            "-2\n",
            "-8\n"
          ],
          "name": "stdout"
        }
      ]
    },
    {
      "cell_type": "code",
      "metadata": {
        "colab": {
          "base_uri": "https://localhost:8080/"
        },
        "id": "5QCpq_cwFKIF",
        "outputId": "fc3a4925-18e9-4abf-e397-d45f22c1da3d"
      },
      "source": [
        "x = input()\n",
        "t = x.split()\n",
        "v = list()\n",
        "for i in t:\n",
        "    x = float(i)\n",
        "    v.append(x)\n",
        "print(v)\n",
        "mul = 1\n",
        "for z in v:\n",
        "    mul = mul * z\n",
        "si = mul/100\n",
        "print('{:.2f}' .format(si))\n",
        "    "
      ],
      "execution_count": null,
      "outputs": [
        {
          "output_type": "stream",
          "text": [
            "100 2 2\n",
            "[100, 2, 2]\n",
            "4.00\n"
          ],
          "name": "stdout"
        }
      ]
    },
    {
      "cell_type": "code",
      "metadata": {
        "colab": {
          "base_uri": "https://localhost:8080/"
        },
        "id": "r0pSaNo7HTXl",
        "outputId": "779d2855-16d0-4514-f9f8-7afa641f44b3"
      },
      "source": [
        "x = input()\n",
        "t = x.split()\n",
        "a,b = t\n",
        "if a>b:\n",
        "  print(b)\n",
        "else:\n",
        "  print(a)"
      ],
      "execution_count": null,
      "outputs": [
        {
          "output_type": "stream",
          "text": [
            "1 2\n",
            "1\n"
          ],
          "name": "stdout"
        }
      ]
    },
    {
      "cell_type": "code",
      "metadata": {
        "colab": {
          "base_uri": "https://localhost:8080/"
        },
        "id": "QP6F2sybM_ni",
        "outputId": "9686ef3d-6725-46bd-b834-026d681403f0"
      },
      "source": [
        "a = int(input())\n",
        "b = int(input())\n",
        "c = int(input())\n",
        "t = [a,b,c]\n",
        "print(t)\n"
      ],
      "execution_count": null,
      "outputs": [
        {
          "output_type": "stream",
          "text": [
            "1\n",
            "2\n",
            "3\n",
            "[1, 2, 3]\n"
          ],
          "name": "stdout"
        }
      ]
    },
    {
      "cell_type": "code",
      "metadata": {
        "id": "IZZauTD-ASbh",
        "colab": {
          "base_uri": "https://localhost:8080/"
        },
        "outputId": "720d3b91-c4ff-4778-c289-d5a09209da44"
      },
      "source": [
        "from google.colab import drive\n",
        "drive.mount('/content/drive')"
      ],
      "execution_count": null,
      "outputs": [
        {
          "output_type": "stream",
          "name": "stdout",
          "text": [
            "Drive already mounted at /content/drive; to attempt to forcibly remount, call drive.mount(\"/content/drive\", force_remount=True).\n"
          ]
        }
      ]
    },
    {
      "cell_type": "code",
      "metadata": {
        "id": "PiE6mHFTSREI"
      },
      "source": [
        ""
      ],
      "execution_count": null,
      "outputs": []
    },
    {
      "cell_type": "code",
      "metadata": {
        "colab": {
          "base_uri": "https://localhost:8080/"
        },
        "id": "yQ5FZdLdDixB",
        "outputId": "489b27ae-cb0f-433b-c9cf-d5eb9c779f56"
      },
      "source": [
        "c = input()\n",
        "b = list(c)\n",
        "t = len(c)\n",
        "for i in b:\n",
        "  a = int(i)\n",
        "  print(a, end=\" \")\n"
      ],
      "execution_count": null,
      "outputs": [
        {
          "output_type": "stream",
          "text": [
            "123\n",
            "1 2 3 "
          ],
          "name": "stdout"
        }
      ]
    },
    {
      "cell_type": "code",
      "metadata": {
        "colab": {
          "base_uri": "https://localhost:8080/"
        },
        "id": "bOEA2BZ8IPtV",
        "outputId": "e56d0fba-e6f9-478f-a5d0-89f74c4bdba6"
      },
      "source": [
        "a = 'qwe'\n",
        "b = ' saf'\n",
        "c = a+b\n",
        "print( c)"
      ],
      "execution_count": null,
      "outputs": [
        {
          "output_type": "stream",
          "text": [
            "qwe saf\n"
          ],
          "name": "stdout"
        }
      ]
    },
    {
      "cell_type": "code",
      "metadata": {
        "colab": {
          "base_uri": "https://localhost:8080/"
        },
        "id": "3bIDHmh693DQ",
        "outputId": "2c417da0-b396-457b-b1ca-43593d46a370"
      },
      "source": [
        "x = \"\"\"\n",
        "python is taught by \n",
        "guvi \n",
        "at a price of 500/-\n",
        "\"\"\"\n",
        "print(x)\n",
        "print(\"the \" in x)\n",
        "print(x[4:14])"
      ],
      "execution_count": null,
      "outputs": [
        {
          "output_type": "stream",
          "text": [
            "\n",
            "python is taught by \n",
            "guvi \n",
            "at a price of 500/-\n",
            "\n",
            "False\n",
            "hon is tau\n"
          ],
          "name": "stdout"
        }
      ]
    },
    {
      "cell_type": "code",
      "metadata": {
        "colab": {
          "base_uri": "https://localhost:8080/"
        },
        "id": "V_X01izWAEOM",
        "outputId": "6fe76ead-8f85-4b98-e3ec-bfafce6c9de3"
      },
      "source": [
        "x = \"hello, world%, sa, sac\"\n",
        "print(x[-5:-1])\n",
        "c = x.split(',')\n",
        "print(c)\n",
        "print(x[0])"
      ],
      "execution_count": null,
      "outputs": [
        {
          "output_type": "stream",
          "text": [
            ", sa\n",
            "['hello', ' world%', ' sa', ' sac']\n",
            "h\n"
          ],
          "name": "stdout"
        }
      ]
    },
    {
      "cell_type": "code",
      "metadata": {
        "colab": {
          "base_uri": "https://localhost:8080/"
        },
        "id": "VIebx4_UNV6K",
        "outputId": "cbd844ab-a371-4866-aaab-1c99af709e78"
      },
      "source": [
        "a = \"welcome To Python Programing\"\n",
        "print(a.count('m',0,len(a)))\n",
        "print(a.endswith('g',0,len(a)))\n",
        "print(a.islower())\n",
        "print(a.isupper())\n",
        "print(a.istitle())"
      ],
      "execution_count": null,
      "outputs": [
        {
          "output_type": "stream",
          "text": [
            "2\n",
            "True\n",
            "False\n",
            "False\n",
            "False\n"
          ],
          "name": "stdout"
        }
      ]
    },
    {
      "cell_type": "code",
      "metadata": {
        "colab": {
          "base_uri": "https://localhost:8080/"
        },
        "id": "ZJIxUS3maNNo",
        "outputId": "d053f0b9-d8c6-439d-84b5-5591e804b21e"
      },
      "source": [
        "print('hello\\rworld')\n",
        "print('\\123')"
      ],
      "execution_count": null,
      "outputs": [
        {
          "output_type": "stream",
          "text": [
            "hello\rworld\n",
            "S\n"
          ],
          "name": "stdout"
        }
      ]
    },
    {
      "cell_type": "code",
      "metadata": {
        "colab": {
          "base_uri": "https://localhost:8080/"
        },
        "id": "CcQRrJR4STO7",
        "outputId": "7cbeab8b-c412-4c10-c8fc-5ec38f1ea868"
      },
      "source": [
        "def dam():\n",
        "  return (\"em babu bagunnava\")\n",
        "y = dam()\n",
        "print(y)"
      ],
      "execution_count": null,
      "outputs": [
        {
          "output_type": "stream",
          "text": [
            "em babu bagunnava\n"
          ],
          "name": "stdout"
        }
      ]
    },
    {
      "cell_type": "code",
      "metadata": {
        "colab": {
          "base_uri": "https://localhost:8080/"
        },
        "id": "hbLarlErSrny",
        "outputId": "29407554-be81-46dd-b9bc-2ef772b158ca"
      },
      "source": [
        "def xx(a,b):\n",
        "  c=(a+\" \"+b)\n",
        "  print(c)\n",
        "xx(\"ye\",\"bc\")\n"
      ],
      "execution_count": null,
      "outputs": [
        {
          "output_type": "stream",
          "text": [
            "ye bc\n"
          ],
          "name": "stdout"
        }
      ]
    },
    {
      "cell_type": "code",
      "metadata": {
        "colab": {
          "base_uri": "https://localhost:8080/"
        },
        "id": "gRVbSZVPXg-3",
        "outputId": "c37b2447-0e20-4950-d463-7f17ef51d507"
      },
      "source": [
        "l = [\"a\",\"f\",\"gw\"]\n",
        "def loop(x):\n",
        "   print(x*3)\n",
        "def map(cr,l):\n",
        "  for i in l:\n",
        "    cr(l)\n",
        "map(loop,l)"
      ],
      "execution_count": null,
      "outputs": [
        {
          "output_type": "stream",
          "text": [
            "['a', 'f', 'gw', 'a', 'f', 'gw', 'a', 'f', 'gw']\n",
            "['a', 'f', 'gw', 'a', 'f', 'gw', 'a', 'f', 'gw']\n",
            "['a', 'f', 'gw', 'a', 'f', 'gw', 'a', 'f', 'gw']\n"
          ],
          "name": "stdout"
        }
      ]
    },
    {
      "cell_type": "code",
      "metadata": {
        "colab": {
          "base_uri": "https://localhost:8080/"
        },
        "id": "-Sp3wBrUgTLS",
        "outputId": "75e858f1-da00-49a9-a653-75d889a1c2ce"
      },
      "source": [
        "def my_function(x): \n",
        "  return 5 * x \n",
        "print(my_function(3)) \n",
        "print(my_function(5)) \n",
        "print(my_function(9))"
      ],
      "execution_count": null,
      "outputs": [
        {
          "output_type": "stream",
          "text": [
            "15\n",
            "25\n",
            "45\n"
          ],
          "name": "stdout"
        }
      ]
    },
    {
      "cell_type": "code",
      "metadata": {
        "colab": {
          "base_uri": "https://localhost:8080/"
        },
        "id": "HTqbkb8Sg9eH",
        "outputId": "7aaafb12-00a0-4ca5-d930-0e9b0457300d"
      },
      "source": [
        "l = [0,1,2,3,4,5,6]\n",
        "print(l)\n",
        "print(l[1:])\n",
        "print(l[:3])\n",
        "print(l[2:5])\n",
        "l[2:4] = [ 'weref','were']\n",
        "print(l)"
      ],
      "execution_count": null,
      "outputs": [
        {
          "output_type": "stream",
          "text": [
            "[0, 1, 2, 3, 4, 5, 6]\n",
            "[1, 2, 3, 4, 5, 6]\n",
            "[0, 1, 2]\n",
            "[2, 3, 4]\n",
            "[0, 1, 'weref', 'were', 4, 5, 6]\n"
          ],
          "name": "stdout"
        }
      ]
    },
    {
      "cell_type": "code",
      "metadata": {
        "colab": {
          "base_uri": "https://localhost:8080/"
        },
        "id": "UYw_E8Iynvhz",
        "outputId": "b5508bf2-f695-4f1f-efb3-fdffd1ca664e"
      },
      "source": [
        "import math as m\n",
        "a = int(input())\n",
        "b = int(input())\n",
        "c = a*b\n",
        "t = m.sqrt(c)\n",
        "z = max(a,b)\n",
        "for i in range(z+1):\n",
        "    y = i*i\n",
        "    if y==c:\n",
        "        print(\"yes\")\n",
        "        break"
      ],
      "execution_count": null,
      "outputs": [
        {
          "output_type": "stream",
          "text": [
            "6\n",
            "6\n",
            "no\n",
            "no\n",
            "no\n",
            "no\n",
            "no\n",
            "no\n",
            "yes\n"
          ],
          "name": "stdout"
        }
      ]
    },
    {
      "cell_type": "code",
      "metadata": {
        "colab": {
          "base_uri": "https://localhost:8080/"
        },
        "id": "tA0miUkzKspd",
        "outputId": "2f507ca0-fe1a-4b31-b3d1-41c7dc172644"
      },
      "source": [
        "a = 12\n",
        "b = 342\n",
        "c = max(a,b)\n",
        "print(c)"
      ],
      "execution_count": null,
      "outputs": [
        {
          "output_type": "stream",
          "text": [
            "342\n"
          ],
          "name": "stdout"
        }
      ]
    },
    {
      "cell_type": "code",
      "metadata": {
        "colab": {
          "base_uri": "https://localhost:8080/"
        },
        "id": "xjZdybrJpJhZ",
        "outputId": "6d5cea94-975e-4f87-c64c-fa8f2fb3e2a1"
      },
      "source": [
        "import numpy as n\n",
        "arr = [1,2,3,4,5,6]\n",
        "def measure(l):\n",
        "  mean = n.mean(l)\n",
        "  return mean\n",
        "y = measure(arr)\n",
        "print(y)"
      ],
      "execution_count": null,
      "outputs": [
        {
          "output_type": "stream",
          "text": [
            "3.5\n"
          ],
          "name": "stdout"
        }
      ]
    },
    {
      "cell_type": "code",
      "metadata": {
        "colab": {
          "base_uri": "https://localhost:8080/"
        },
        "id": "HCRKL9EW7NH-",
        "outputId": "1d47b401-63b9-482c-c46b-032042794898"
      },
      "source": [
        "a = int(input())\n",
        "c = list(range(1,a+1))\n",
        "c.sort(reverse = True)\n",
        "print(c)"
      ],
      "execution_count": null,
      "outputs": [
        {
          "output_type": "stream",
          "text": [
            "10\n",
            "[10, 9, 8, 7, 6, 5, 4, 3, 2, 1]\n"
          ],
          "name": "stdout"
        }
      ]
    },
    {
      "cell_type": "code",
      "metadata": {
        "colab": {
          "base_uri": "https://localhost:8080/"
        },
        "id": "jhJzur7A9iP5",
        "outputId": "52d0bf24-a940-488d-b809-cd2b749251c0"
      },
      "source": [
        "a = input()\n",
        "b = a.split()\n",
        "d = list()\n",
        "for i in b:\n",
        "    c = int(i)\n",
        "    d.append(c)\n",
        "#a,b,c = d\n",
        "if (d[0]+d[1]>d[2] and d[0]+d[2]>d[1]) and d[2]+d[1]>d[0]:\n",
        "    print('yes')\n",
        "else:\n",
        "    print('no')"
      ],
      "execution_count": null,
      "outputs": [
        {
          "output_type": "stream",
          "text": [
            "3 4 1\n",
            "no\n"
          ],
          "name": "stdout"
        }
      ]
    },
    {
      "cell_type": "code",
      "metadata": {
        "colab": {
          "base_uri": "https://localhost:8080/"
        },
        "id": "8eieSiowDkaQ",
        "outputId": "7ddc9343-991a-4207-9164-9169c86fca2e"
      },
      "source": [
        "a = {1:\"q\",2:\"e\"}\n",
        "print(a)\n",
        "a['q']=3\n",
        "print(a)\n",
        "del a[1]\n",
        "print(a)"
      ],
      "execution_count": null,
      "outputs": [
        {
          "output_type": "stream",
          "text": [
            "{1: 'q', 2: 'e'}\n",
            "{1: 'q', 2: 'e', 'q': 3}\n",
            "{2: 'e', 'q': 3}\n"
          ],
          "name": "stdout"
        }
      ]
    },
    {
      "cell_type": "code",
      "metadata": {
        "colab": {
          "base_uri": "https://localhost:8080/"
        },
        "id": "NHPDSTWVIQcy",
        "outputId": "ba067395-295c-4a0d-ee61-27cc35506f97"
      },
      "source": [
        "fruits = [\"yam\",\"banana\",\"kiwi\",\"apple\"]\n",
        "newf = [x for x in fruits if \"a\" in x]\n",
        "print(newf)\n",
        "newd = [x if x!= \"banana\" else \"orange\" for x in fruits]\n",
        "print(newd)"
      ],
      "execution_count": null,
      "outputs": [
        {
          "output_type": "stream",
          "text": [
            "['yam', 'banana', 'apple']\n",
            "['yam', 'orange', 'kiwi', 'apple']\n"
          ],
          "name": "stdout"
        }
      ]
    },
    {
      "cell_type": "code",
      "metadata": {
        "colab": {
          "base_uri": "https://localhost:8080/",
          "height": 35
        },
        "id": "mmepml52Nnbr",
        "outputId": "3b053abe-7f06-4b73-e714-1e8ddbeeafda"
      },
      "source": [
        "def sample():\n",
        "    str1=\"Geeks\"\n",
        "    str2=str1[::-1]+\"ivuG\"\n",
        "    return str2[::-1]\n",
        "sample()\n",
        "\n"
      ],
      "execution_count": null,
      "outputs": [
        {
          "output_type": "execute_result",
          "data": {
            "application/vnd.google.colaboratory.intrinsic+json": {
              "type": "string"
            },
            "text/plain": [
              "'GuviGeeks'"
            ]
          },
          "metadata": {
            "tags": []
          },
          "execution_count": 12
        }
      ]
    },
    {
      "cell_type": "code",
      "metadata": {
        "colab": {
          "base_uri": "https://localhost:8080/"
        },
        "id": "ZthuY7hxjWx5",
        "outputId": "ed93cd0e-6c68-4e5b-f5c8-84a47ae13c08"
      },
      "source": [
        "class comp:\n",
        "  def config(self):\n",
        "    print(\"2gb ram 32 gb rom 4k display\")\n",
        "c1 = comp()\n",
        "comp.config(c1)\n",
        "c1.config()"
      ],
      "execution_count": null,
      "outputs": [
        {
          "output_type": "stream",
          "text": [
            "2gb ram 32 gb rom 4k display\n",
            "2gb ram 32 gb rom 4k display\n"
          ],
          "name": "stdout"
        }
      ]
    },
    {
      "cell_type": "code",
      "metadata": {
        "colab": {
          "base_uri": "https://localhost:8080/"
        },
        "id": "diaLXZC2v6bQ",
        "outputId": "607d7f9c-5df4-4375-d0e8-c0daf7363a46"
      },
      "source": [
        "#lambda function\n",
        "x = lambda a: a + 20\n",
        "print(x(1))"
      ],
      "execution_count": null,
      "outputs": [
        {
          "output_type": "stream",
          "text": [
            "21\n"
          ],
          "name": "stdout"
        }
      ]
    },
    {
      "cell_type": "code",
      "metadata": {
        "colab": {
          "base_uri": "https://localhost:8080/"
        },
        "id": "s61R9Daf1BGO",
        "outputId": "90d1f768-c17d-4473-efe9-9f72a90116fb"
      },
      "source": [
        "def fun(variable): \n",
        "  letters = ['a', 'e', 'i', 'o', 'u'] \n",
        "  if (variable in letters): \n",
        "    return True \n",
        "  else: \n",
        "    return False \n",
        "sequence = ['g', 'e', 'e', 'j', 'k', 's', 'p', 'r'] \n",
        "filtered = filter(fun, sequence) \n",
        "print('The filtered letters are:') \n",
        "for s in filtered: print(s)"
      ],
      "execution_count": null,
      "outputs": [
        {
          "output_type": "stream",
          "text": [
            "The filtered letters are:\n",
            "e\n",
            "e\n"
          ],
          "name": "stdout"
        }
      ]
    },
    {
      "cell_type": "code",
      "metadata": {
        "id": "4mDmRXmy2G_j",
        "colab": {
          "base_uri": "https://localhost:8080/"
        },
        "outputId": "bc3aa18c-7d80-4766-b067-880bf438d06d"
      },
      "source": [
        "!pip list\n"
      ],
      "execution_count": null,
      "outputs": [
        {
          "output_type": "stream",
          "text": [
            "Package                       Version            \n",
            "----------------------------- -------------------\n",
            "absl-py                       0.12.0             \n",
            "alabaster                     0.7.12             \n",
            "albumentations                0.1.12             \n",
            "altair                        4.1.0              \n",
            "appdirs                       1.4.4              \n",
            "argon2-cffi                   20.1.0             \n",
            "arviz                         0.11.2             \n",
            "astor                         0.8.1              \n",
            "astropy                       4.2.1              \n",
            "astunparse                    1.6.3              \n",
            "async-generator               1.10               \n",
            "atari-py                      0.2.9              \n",
            "atomicwrites                  1.4.0              \n",
            "attrs                         21.2.0             \n",
            "audioread                     2.1.9              \n",
            "autograd                      1.3                \n",
            "Babel                         2.9.1              \n",
            "backcall                      0.2.0              \n",
            "beautifulsoup4                4.6.3              \n",
            "bleach                        3.3.0              \n",
            "blis                          0.4.1              \n",
            "bokeh                         2.3.3              \n",
            "Bottleneck                    1.3.2              \n",
            "branca                        0.4.2              \n",
            "bs4                           0.0.1              \n",
            "CacheControl                  0.12.6             \n",
            "cached-property               1.5.2              \n",
            "cachetools                    4.2.2              \n",
            "catalogue                     1.0.0              \n",
            "certifi                       2021.5.30          \n",
            "cffi                          1.14.6             \n",
            "cftime                        1.5.0              \n",
            "chardet                       3.0.4              \n",
            "charset-normalizer            2.0.2              \n",
            "click                         7.1.2              \n",
            "cloudpickle                   1.3.0              \n",
            "cmake                         3.12.0             \n",
            "cmdstanpy                     0.9.5              \n",
            "colorcet                      2.0.6              \n",
            "colorlover                    0.3.0              \n",
            "community                     1.0.0b1            \n",
            "contextlib2                   0.5.5              \n",
            "convertdate                   2.3.2              \n",
            "coverage                      3.7.1              \n",
            "coveralls                     0.5                \n",
            "crcmod                        1.7                \n",
            "cufflinks                     0.17.3             \n",
            "cvxopt                        1.2.6              \n",
            "cvxpy                         1.0.31             \n",
            "cycler                        0.10.0             \n",
            "cymem                         2.0.5              \n",
            "Cython                        0.29.23            \n",
            "daft                          0.0.4              \n",
            "dask                          2.12.0             \n",
            "datascience                   0.10.6             \n",
            "debugpy                       1.0.0              \n",
            "decorator                     4.4.2              \n",
            "defusedxml                    0.7.1              \n",
            "descartes                     1.1.0              \n",
            "dill                          0.3.4              \n",
            "distributed                   1.25.3             \n",
            "dlib                          19.18.0            \n",
            "dm-tree                       0.1.6              \n",
            "docopt                        0.6.2              \n",
            "docutils                      0.17.1             \n",
            "dopamine-rl                   1.0.5              \n",
            "earthengine-api               0.1.272            \n",
            "easydict                      1.9                \n",
            "ecos                          2.0.7.post1        \n",
            "editdistance                  0.5.3              \n",
            "en-core-web-sm                2.2.5              \n",
            "entrypoints                   0.3                \n",
            "ephem                         4.0.0.2            \n",
            "et-xmlfile                    1.1.0              \n",
            "fa2                           0.3.5              \n",
            "fastai                        1.0.61             \n",
            "fastdtw                       0.3.4              \n",
            "fastprogress                  1.0.0              \n",
            "fastrlock                     0.6                \n",
            "fbprophet                     0.7.1              \n",
            "feather-format                0.4.1              \n",
            "filelock                      3.0.12             \n",
            "firebase-admin                4.4.0              \n",
            "fix-yahoo-finance             0.0.22             \n",
            "Flask                         1.1.4              \n",
            "flatbuffers                   1.12               \n",
            "folium                        0.8.3              \n",
            "future                        0.16.0             \n",
            "gast                          0.4.0              \n",
            "GDAL                          2.2.2              \n",
            "gdown                         3.6.4              \n",
            "gensim                        3.6.0              \n",
            "geographiclib                 1.52               \n",
            "geopy                         1.17.0             \n",
            "gin-config                    0.4.0              \n",
            "glob2                         0.7                \n",
            "google                        2.0.3              \n",
            "google-api-core               1.26.3             \n",
            "google-api-python-client      1.12.8             \n",
            "google-auth                   1.32.1             \n",
            "google-auth-httplib2          0.0.4              \n",
            "google-auth-oauthlib          0.4.4              \n",
            "google-cloud-bigquery         1.21.0             \n",
            "google-cloud-bigquery-storage 1.1.0              \n",
            "google-cloud-core             1.0.3              \n",
            "google-cloud-datastore        1.8.0              \n",
            "google-cloud-firestore        1.7.0              \n",
            "google-cloud-language         1.2.0              \n",
            "google-cloud-storage          1.18.1             \n",
            "google-cloud-translate        1.5.0              \n",
            "google-colab                  1.0.0              \n",
            "google-pasta                  0.2.0              \n",
            "google-resumable-media        0.4.1              \n",
            "googleapis-common-protos      1.53.0             \n",
            "googledrivedownloader         0.4                \n",
            "graphviz                      0.10.1             \n",
            "greenlet                      1.1.0              \n",
            "grpcio                        1.34.1             \n",
            "gspread                       3.0.1              \n",
            "gspread-dataframe             3.0.8              \n",
            "gym                           0.17.3             \n",
            "h5py                          3.1.0              \n",
            "HeapDict                      1.0.1              \n",
            "hijri-converter               2.1.3              \n",
            "holidays                      0.10.5.2           \n",
            "holoviews                     1.14.4             \n",
            "html5lib                      1.0.1              \n",
            "httpimport                    0.5.18             \n",
            "httplib2                      0.17.4             \n",
            "httplib2shim                  0.0.3              \n",
            "humanize                      0.5.1              \n",
            "hyperopt                      0.1.2              \n",
            "ideep4py                      2.0.0.post3        \n",
            "idna                          2.10               \n",
            "imageio                       2.4.1              \n",
            "imagesize                     1.2.0              \n",
            "imbalanced-learn              0.4.3              \n",
            "imblearn                      0.0                \n",
            "imgaug                        0.2.9              \n",
            "importlib-metadata            4.6.1              \n",
            "importlib-resources           5.2.0              \n",
            "imutils                       0.5.4              \n",
            "inflect                       2.1.0              \n",
            "iniconfig                     1.1.1              \n",
            "install                       1.3.4              \n",
            "intel-openmp                  2021.3.0           \n",
            "intervaltree                  2.1.0              \n",
            "ipykernel                     4.10.1             \n",
            "ipython                       5.5.0              \n",
            "ipython-genutils              0.2.0              \n",
            "ipython-sql                   0.3.9              \n",
            "ipywidgets                    7.6.3              \n",
            "itsdangerous                  1.1.0              \n",
            "jax                           0.2.17             \n",
            "jaxlib                        0.1.69+cuda110     \n",
            "jdcal                         1.4.1              \n",
            "jedi                          0.18.0             \n",
            "jieba                         0.42.1             \n",
            "Jinja2                        2.11.3             \n",
            "joblib                        1.0.1              \n",
            "jpeg4py                       0.1.4              \n",
            "jsonschema                    2.6.0              \n",
            "jupyter                       1.0.0              \n",
            "jupyter-client                5.3.5              \n",
            "jupyter-console               5.2.0              \n",
            "jupyter-core                  4.7.1              \n",
            "jupyterlab-pygments           0.1.2              \n",
            "jupyterlab-widgets            1.0.0              \n",
            "kaggle                        1.5.12             \n",
            "kapre                         0.3.5              \n",
            "Keras                         2.4.3              \n",
            "keras-nightly                 2.5.0.dev2021032900\n",
            "Keras-Preprocessing           1.1.2              \n",
            "keras-vis                     0.4.1              \n",
            "kiwisolver                    1.3.1              \n",
            "korean-lunar-calendar         0.2.1              \n",
            "librosa                       0.8.1              \n",
            "lightgbm                      2.2.3              \n",
            "llvmlite                      0.34.0             \n",
            "lmdb                          0.99               \n",
            "LunarCalendar                 0.0.9              \n",
            "lxml                          4.2.6              \n",
            "Markdown                      3.3.4              \n",
            "MarkupSafe                    2.0.1              \n",
            "matplotlib                    3.2.2              \n",
            "matplotlib-inline             0.1.2              \n",
            "matplotlib-venn               0.11.6             \n",
            "missingno                     0.5.0              \n",
            "mistune                       0.8.4              \n",
            "mizani                        0.6.0              \n",
            "mkl                           2019.0             \n",
            "mlxtend                       0.14.0             \n",
            "more-itertools                8.8.0              \n",
            "moviepy                       0.2.3.5            \n",
            "mpmath                        1.2.1              \n",
            "msgpack                       1.0.2              \n",
            "multiprocess                  0.70.12.2          \n",
            "multitasking                  0.0.9              \n",
            "murmurhash                    1.0.5              \n",
            "music21                       5.5.0              \n",
            "natsort                       5.5.0              \n",
            "nbclient                      0.5.3              \n",
            "nbconvert                     5.6.1              \n",
            "nbformat                      5.1.3              \n",
            "nest-asyncio                  1.5.1              \n",
            "netCDF4                       1.5.7              \n",
            "networkx                      2.5.1              \n",
            "nibabel                       3.0.2              \n",
            "nltk                          3.2.5              \n",
            "notebook                      5.3.1              \n",
            "numba                         0.51.2             \n",
            "numexpr                       2.7.3              \n",
            "numpy                         1.19.5             \n",
            "nvidia-ml-py3                 7.352.0            \n",
            "oauth2client                  4.1.3              \n",
            "oauthlib                      3.1.1              \n",
            "okgrade                       0.4.3              \n",
            "opencv-contrib-python         4.1.2.30           \n",
            "opencv-python                 4.1.2.30           \n",
            "openpyxl                      2.5.9              \n",
            "opt-einsum                    3.3.0              \n",
            "osqp                          0.6.2.post0        \n",
            "packaging                     21.0               \n",
            "palettable                    3.3.0              \n",
            "pandas                        1.1.5              \n",
            "pandas-datareader             0.9.0              \n",
            "pandas-gbq                    0.13.3             \n",
            "pandas-profiling              1.4.1              \n",
            "pandocfilters                 1.4.3              \n",
            "panel                         0.11.3             \n",
            "param                         1.11.1             \n",
            "parso                         0.8.2              \n",
            "pathlib                       1.0.1              \n",
            "patsy                         0.5.1              \n",
            "pexpect                       4.8.0              \n",
            "pickleshare                   0.7.5              \n",
            "Pillow                        7.1.2              \n",
            "pip                           19.3.1             \n",
            "pip-tools                     4.5.1              \n",
            "plac                          1.1.3              \n",
            "plotly                        4.4.1              \n",
            "plotnine                      0.6.0              \n",
            "pluggy                        0.7.1              \n",
            "pooch                         1.4.0              \n",
            "portpicker                    1.3.9              \n",
            "prefetch-generator            1.0.1              \n",
            "preshed                       3.0.5              \n",
            "prettytable                   2.1.0              \n",
            "progressbar2                  3.38.0             \n",
            "prometheus-client             0.11.0             \n",
            "promise                       2.3                \n",
            "prompt-toolkit                1.0.18             \n",
            "protobuf                      3.17.3             \n",
            "psutil                        5.4.8              \n",
            "psycopg2                      2.7.6.1            \n",
            "ptyprocess                    0.7.0              \n",
            "py                            1.10.0             \n",
            "pyarrow                       3.0.0              \n",
            "pyasn1                        0.4.8              \n",
            "pyasn1-modules                0.2.8              \n",
            "pycocotools                   2.0.2              \n",
            "pycparser                     2.20               \n",
            "pyct                          0.4.8              \n",
            "pydata-google-auth            1.2.0              \n",
            "pydot                         1.3.0              \n",
            "pydot-ng                      2.0.0              \n",
            "pydotplus                     2.0.2              \n",
            "PyDrive                       1.3.1              \n",
            "pyemd                         0.5.1              \n",
            "pyerfa                        2.0.0              \n",
            "pyglet                        1.5.0              \n",
            "Pygments                      2.6.1              \n",
            "pygobject                     3.26.1             \n",
            "pymc3                         3.11.2             \n",
            "PyMeeus                       0.5.11             \n",
            "pymongo                       3.11.4             \n",
            "pymystem3                     0.2.0              \n",
            "PyOpenGL                      3.1.5              \n",
            "pyparsing                     2.4.7              \n",
            "pyrsistent                    0.18.0             \n",
            "pysndfile                     1.3.8              \n",
            "PySocks                       1.7.1              \n",
            "pystan                        2.19.1.1           \n",
            "pytest                        3.6.4              \n",
            "python-apt                    0.0.0              \n",
            "python-chess                  0.23.11            \n",
            "python-dateutil               2.8.1              \n",
            "python-louvain                0.15               \n",
            "python-slugify                5.0.2              \n",
            "python-utils                  2.5.6              \n",
            "pytz                          2018.9             \n",
            "pyviz-comms                   2.1.0              \n",
            "PyWavelets                    1.1.1              \n",
            "PyYAML                        3.13               \n",
            "pyzmq                         22.1.0             \n",
            "qdldl                         0.1.5.post0        \n",
            "qtconsole                     5.1.1              \n",
            "QtPy                          1.9.0              \n",
            "regex                         2019.12.20         \n",
            "requests                      2.23.0             \n",
            "requests-oauthlib             1.3.0              \n",
            "resampy                       0.2.2              \n",
            "retrying                      1.3.3              \n",
            "rpy2                          3.4.5              \n",
            "rsa                           4.7.2              \n",
            "scikit-image                  0.16.2             \n",
            "scikit-learn                  0.22.2.post1       \n",
            "scipy                         1.4.1              \n",
            "screen-resolution-extra       0.0.0              \n",
            "scs                           2.1.4              \n",
            "seaborn                       0.11.1             \n",
            "semver                        2.13.0             \n",
            "Send2Trash                    1.7.1              \n",
            "setuptools                    57.2.0             \n",
            "setuptools-git                1.2                \n",
            "Shapely                       1.7.1              \n",
            "simplegeneric                 0.8.1              \n",
            "six                           1.15.0             \n",
            "sklearn                       0.0                \n",
            "sklearn-pandas                1.8.0              \n",
            "smart-open                    5.1.0              \n",
            "snowballstemmer               2.1.0              \n",
            "sortedcontainers              2.4.0              \n",
            "SoundFile                     0.10.3.post1       \n",
            "spacy                         2.2.4              \n",
            "Sphinx                        1.8.5              \n",
            "sphinxcontrib-serializinghtml 1.1.5              \n",
            "sphinxcontrib-websupport      1.2.4              \n",
            "SQLAlchemy                    1.4.20             \n",
            "sqlparse                      0.4.1              \n",
            "srsly                         1.0.5              \n",
            "statsmodels                   0.10.2             \n",
            "sympy                         1.7.1              \n",
            "tables                        3.4.4              \n",
            "tabulate                      0.8.9              \n",
            "tblib                         1.7.0              \n",
            "tensorboard                   2.5.0              \n",
            "tensorboard-data-server       0.6.1              \n",
            "tensorboard-plugin-wit        1.8.0              \n",
            "tensorflow                    2.5.0              \n",
            "tensorflow-datasets           4.0.1              \n",
            "tensorflow-estimator          2.5.0              \n",
            "tensorflow-gcs-config         2.5.0              \n",
            "tensorflow-hub                0.12.0             \n",
            "tensorflow-metadata           1.1.0              \n",
            "tensorflow-probability        0.13.0             \n",
            "termcolor                     1.1.0              \n",
            "terminado                     0.10.1             \n",
            "testpath                      0.5.0              \n",
            "text-unidecode                1.3                \n",
            "textblob                      0.15.3             \n",
            "Theano-PyMC                   1.1.2              \n",
            "thinc                         7.4.0              \n",
            "tifffile                      2021.7.2           \n",
            "toml                          0.10.2             \n",
            "toolz                         0.11.1             \n",
            "torch                         1.9.0+cu102        \n",
            "torchsummary                  1.5.1              \n",
            "torchtext                     0.10.0             \n",
            "torchvision                   0.10.0+cu102       \n",
            "tornado                       5.1.1              \n",
            "tqdm                          4.41.1             \n",
            "traitlets                     5.0.5              \n",
            "tweepy                        3.10.0             \n",
            "typeguard                     2.7.1              \n",
            "typing-extensions             3.7.4.3            \n",
            "tzlocal                       1.5.1              \n",
            "uritemplate                   3.0.1              \n",
            "urllib3                       1.24.3             \n",
            "vega-datasets                 0.9.0              \n",
            "wasabi                        0.8.2              \n",
            "wcwidth                       0.2.5              \n",
            "webencodings                  0.5.1              \n",
            "Werkzeug                      1.0.1              \n",
            "wheel                         0.36.2             \n",
            "widgetsnbextension            3.5.1              \n",
            "wordcloud                     1.5.0              \n",
            "wrapt                         1.12.1             \n",
            "xarray                        0.18.2             \n",
            "xgboost                       0.90               \n",
            "xkit                          0.0.0              \n",
            "xlrd                          1.1.0              \n",
            "xlwt                          1.3.0              \n",
            "yellowbrick                   0.9.1              \n",
            "zict                          2.0.0              \n",
            "zipp                          3.5.0              \n"
          ],
          "name": "stdout"
        }
      ]
    },
    {
      "cell_type": "code",
      "metadata": {
        "id": "esqypGM1AAOD",
        "colab": {
          "base_uri": "https://localhost:8080/"
        },
        "outputId": "e83b4640-1928-4664-8178-4798a7c731db"
      },
      "source": [
        "# iterator \n",
        "tuple =('qwdqwd','sdasds','dasvsadv')\n",
        "myit= iter(tuple)\n",
        "print(next(myit))\n",
        "print(next(myit))\n",
        "print(next(myit))"
      ],
      "execution_count": null,
      "outputs": [
        {
          "output_type": "stream",
          "text": [
            "qwdqwd\n",
            "sdasds\n",
            "dasvsadv\n"
          ],
          "name": "stdout"
        }
      ]
    },
    {
      "cell_type": "code",
      "metadata": {
        "colab": {
          "base_uri": "https://localhost:8080/"
        },
        "id": "b-WAUBujXA1x",
        "outputId": "9925be0d-13d1-4208-c66d-c0d0e1a457b2"
      },
      "source": [
        "a = ['vamsi','tarun','rampo']\n",
        "b = list()\n",
        "for i in a:\n",
        "  c = i.title()\n",
        "  b.append(c)\n",
        "print(b)"
      ],
      "execution_count": null,
      "outputs": [
        {
          "output_type": "stream",
          "text": [
            "['Vamsi', 'Tarun', 'Rampo']\n"
          ],
          "name": "stdout"
        }
      ]
    },
    {
      "cell_type": "code",
      "metadata": {
        "colab": {
          "base_uri": "https://localhost:8080/"
        },
        "id": "7-jgRWqCZifF",
        "outputId": "1ea43202-3c93-41e2-f101-3e1e90c37f72"
      },
      "source": [
        "num = 1234\n",
        "reversed_num = 0\n",
        "\n",
        "while num != 0:\n",
        "    digit = num % 10\n",
        "    reversed_num = reversed_num * 10 + digit\n",
        "    num //= 10\n",
        "\n",
        "print(\"Reversed Number: \", reversed_num)"
      ],
      "execution_count": null,
      "outputs": [
        {
          "output_type": "stream",
          "text": [
            "Reversed Number:  inf\n"
          ],
          "name": "stdout"
        }
      ]
    },
    {
      "cell_type": "code",
      "metadata": {
        "colab": {
          "base_uri": "https://localhost:8080/"
        },
        "id": "-Lmj9SHLcTxK",
        "outputId": "6dcd0c9f-0700-412f-bf07-f6928627093a"
      },
      "source": [
        "a = [1,2,3,4,5,6]\n",
        "print(a)\n",
        "a.pop()\n",
        "print(a)"
      ],
      "execution_count": null,
      "outputs": [
        {
          "output_type": "stream",
          "text": [
            "[1, 2, 3, 4, 5, 6]\n",
            "[1, 2, 3, 4, 5]\n"
          ],
          "name": "stdout"
        }
      ]
    },
    {
      "cell_type": "code",
      "metadata": {
        "id": "P1yyHtZsJdpH",
        "colab": {
          "base_uri": "https://localhost:8080/"
        },
        "outputId": "a9252951-a46e-4b5a-c51a-822ea2dcaf59"
      },
      "source": [
        "a = int(input())\n",
        "b = input()\n",
        "c = b.split()\n",
        "d = list()\n",
        "#p = len(a)\n",
        "for i in c:\n",
        "    i = int(i)\n",
        "    d.append(i)\n",
        "e = 0\n",
        "for i in range(3):\n",
        "  e = e+d[i]\n",
        "print(e)\n",
        "r = 0\n",
        "for i in d[:-4:-1]:\n",
        "  r = r+i\n",
        "print(r)\n"
      ],
      "execution_count": null,
      "outputs": [
        {
          "output_type": "stream",
          "text": [
            "7\n",
            "1 2 3 4 5 6 7\n",
            "6\n",
            "18\n"
          ],
          "name": "stdout"
        }
      ]
    },
    {
      "cell_type": "code",
      "metadata": {
        "colab": {
          "base_uri": "https://localhost:8080/"
        },
        "id": "BWdd0HTZQcoB",
        "outputId": "bb814f2b-0e20-425b-f5c3-2607e8a06d2f"
      },
      "source": [
        "a = input()\n",
        "b = list(a)\n",
        "c = list(map(int, b))\n",
        "#print(c)\n",
        "c.sort()\n",
        "#print(c)\n",
        "e = list()\n",
        "f = list()\n",
        "for i in c:\n",
        "  if i%2 == 0:\n",
        "    print(i, end=\" \")\n",
        "print('\\n')\n",
        "for i in c:\n",
        "  if i%2 != 0:\n",
        "    print(i,end =\" \")"
      ],
      "execution_count": null,
      "outputs": [
        {
          "output_type": "stream",
          "text": [
            "12310123427\n",
            "0 2 2 2 4 \n",
            "\n",
            "1 1 1 3 3 7 "
          ],
          "name": "stdout"
        }
      ]
    },
    {
      "cell_type": "code",
      "metadata": {
        "colab": {
          "base_uri": "https://localhost:8080/"
        },
        "id": "ETCnt34Wdij7",
        "outputId": "a9c742ed-fa4a-48b7-97dd-3c4928868a5c"
      },
      "source": [
        "a = 'twenty'\n",
        "b = a[::-1]\n",
        "print(b)\n",
        "if a ==b :\n",
        "  print(\"u\")\n",
        "else:\n",
        "  print(\"n\")"
      ],
      "execution_count": null,
      "outputs": [
        {
          "output_type": "stream",
          "text": [
            "ytnewt\n",
            "n\n"
          ],
          "name": "stdout"
        }
      ]
    },
    {
      "cell_type": "code",
      "metadata": {
        "colab": {
          "base_uri": "https://localhost:8080/"
        },
        "id": "kxZ85RYLdmMw",
        "outputId": "a4a8b8d4-836b-48f0-b0f0-dd70ebaf4c32"
      },
      "source": [
        "a = input()\n",
        "b = a.split()\n",
        "d = len(b)\n",
        "print(d)\n",
        "c = list()\n",
        "print(range(d))\n",
        "for i in range(d):\n",
        "  try:\n",
        "    p = list(map(int,b))\n",
        "  except:\n",
        "    continue\n",
        "print(p)"
      ],
      "execution_count": null,
      "outputs": [
        {
          "output_type": "stream",
          "text": [
            "I was born on 12 october 1998 .\n",
            "8\n",
            "range(0, 8)\n",
            "12\n"
          ],
          "name": "stdout"
        }
      ]
    },
    {
      "cell_type": "code",
      "metadata": {
        "id": "Vbyk33FuhR8E",
        "colab": {
          "base_uri": "https://localhost:8080/"
        },
        "outputId": "b312a23c-c05b-4f9e-dcf7-80886f72c762"
      },
      "source": [
        "a = [1,2,3,4,6,8,10]\n",
        "l = list(map(lambda n: n%2 == 0, a))\n",
        "l"
      ],
      "execution_count": null,
      "outputs": [
        {
          "output_type": "execute_result",
          "data": {
            "text/plain": [
              "[False, True, False, True, True, True, True]"
            ]
          },
          "metadata": {
            "tags": []
          },
          "execution_count": 1
        }
      ]
    },
    {
      "cell_type": "code",
      "metadata": {
        "id": "Vy9KPnUHvuU5",
        "colab": {
          "base_uri": "https://localhost:8080/"
        },
        "outputId": "179ea86f-410a-49e3-a5ea-492159bf171c"
      },
      "source": [
        "def valid(aaa):\n",
        "    b = aaa.split(\"@\")\n",
        "    c = len(b[0])\n",
        "    d = b[1]\n",
        "    g = d.split('.')\n",
        "    l = len(g[0])\n",
        "    p = g[1]\n",
        "    cals(c,l,p)\n",
        "def cals(cc,ll,pp):\n",
        "    if cc>3 and ll>4:\n",
        "        if pp == 'com':\n",
        "            print('YES')\n",
        "    else:\n",
        "        print('NO')\n",
        "def beg(aa):\n",
        "    if aa.count('@') ==1 and aa.count('.') == 1:\n",
        "        valid(aa)\n",
        "\n",
        "a = \"test@gmaile.com\"\n",
        "beg(a)"
      ],
      "execution_count": null,
      "outputs": [
        {
          "output_type": "stream",
          "text": [
            "YES\n"
          ],
          "name": "stdout"
        }
      ]
    },
    {
      "cell_type": "code",
      "metadata": {
        "colab": {
          "base_uri": "https://localhost:8080/"
        },
        "id": "hUcbn8VnSbpY",
        "outputId": "0aa06942-fc0a-4208-81e3-e6b04cd15d5e"
      },
      "source": [
        "a = ['sddsa','sdfafa']\n",
        "r = len(a[0])\n",
        "r"
      ],
      "execution_count": null,
      "outputs": [
        {
          "output_type": "execute_result",
          "data": {
            "text/plain": [
              "5"
            ]
          },
          "metadata": {
            "tags": []
          },
          "execution_count": 6
        }
      ]
    },
    {
      "cell_type": "code",
      "metadata": {
        "colab": {
          "base_uri": "https://localhost:8080/"
        },
        "id": "aQNPcXtpSgh2",
        "outputId": "3b4f0490-de1e-4ff9-c8c9-be0f68976f90"
      },
      "source": [
        "def demo(aa):\n",
        "  print(aa)\n",
        "a = 'sdnanaflsfn@gmail.com'\n",
        "demo(a)"
      ],
      "execution_count": null,
      "outputs": [
        {
          "output_type": "stream",
          "text": [
            "sdnanaflsfn@gmail.com\n"
          ],
          "name": "stdout"
        }
      ]
    },
    {
      "cell_type": "code",
      "metadata": {
        "id": "Fpdkzy5gTcuQ",
        "colab": {
          "base_uri": "https://localhost:8080/"
        },
        "outputId": "c4113b83-4559-4464-b8c2-8ce082b8fce5"
      },
      "source": [
        "list1=[2,4,6,8,10]\n",
        "list2=[1,3,5,7,9]\n",
        "list3=[]\n",
        "for i in range(len(list1)):\n",
        "  if(i%2==0):\n",
        "    list3.append(list1[i]+list2[i])\n",
        "list3"
      ],
      "execution_count": null,
      "outputs": [
        {
          "output_type": "execute_result",
          "data": {
            "text/plain": [
              "[3, 11, 19]"
            ]
          },
          "metadata": {},
          "execution_count": 2
        }
      ]
    },
    {
      "cell_type": "code",
      "metadata": {
        "colab": {
          "base_uri": "https://localhost:8080/"
        },
        "id": "b9HRA4LULNLA",
        "outputId": "9efab07d-b07a-4280-ea32-c5eddd4d4672"
      },
      "source": [
        "class A:\n",
        "    def __str__(self):\n",
        "        return \"A\"\n",
        "\n",
        "class B(A):\n",
        "    def __str__(self):\n",
        "        return \"B\"\n",
        "\n",
        "class C(B):\n",
        "    def __str__(self):\n",
        "        return \"C\"\n",
        "\n",
        "def main():\n",
        "    b = B()\n",
        "    a = A()\n",
        "    c = C()\n",
        "    print(a, b, c)\n",
        "main()"
      ],
      "execution_count": null,
      "outputs": [
        {
          "output_type": "stream",
          "text": [
            "A B C\n"
          ],
          "name": "stdout"
        }
      ]
    },
    {
      "cell_type": "code",
      "metadata": {
        "colab": {
          "base_uri": "https://localhost:8080/"
        },
        "id": "VOTZx_jdLTKp",
        "outputId": "ec6642b0-5551-439a-954a-501285f0f73c"
      },
      "source": [
        "t = (1, 2, 4, 3)\n",
        "print (t[1 : -1])"
      ],
      "execution_count": null,
      "outputs": [
        {
          "output_type": "stream",
          "text": [
            "(2, 4)\n"
          ],
          "name": "stdout"
        }
      ]
    },
    {
      "cell_type": "code",
      "metadata": {
        "colab": {
          "base_uri": "https://localhost:8080/"
        },
        "id": "vcbOUDlpLj9z",
        "outputId": "5ed51488-14e7-4bf7-be79-2671dee834c1"
      },
      "source": [
        "print(\"Hello, World!\")\n",
        "\n"
      ],
      "execution_count": null,
      "outputs": [
        {
          "output_type": "stream",
          "text": [
            "Hello, World!\n"
          ],
          "name": "stdout"
        }
      ]
    },
    {
      "cell_type": "code",
      "metadata": {
        "colab": {
          "base_uri": "https://localhost:8080/"
        },
        "id": "6mo9ZzzpPPhK",
        "outputId": "6ef436fa-f642-4645-90f2-ae132062a191"
      },
      "source": [
        "n = int(input())\n",
        "rev = 0\n",
        "while n> 0:\n",
        "  rem = n%10\n",
        "  rev = rev*10 + rem\n",
        "  n = int(n/10)\n",
        "print(rev)\n"
      ],
      "execution_count": null,
      "outputs": [
        {
          "output_type": "stream",
          "text": [
            "21\n",
            "12\n"
          ],
          "name": "stdout"
        }
      ]
    },
    {
      "cell_type": "code",
      "metadata": {
        "colab": {
          "base_uri": "https://localhost:8080/"
        },
        "id": "V2lgC5orQvAg",
        "outputId": "391c2a88-e438-4fdb-df51-6f8b18b2660d"
      },
      "source": [
        "n = int(input())\n",
        "t = n\n",
        "rev = 0\n",
        "while n> 0:\n",
        "  rem = n%10\n",
        "  rev = rev*10 + rem\n",
        "  n = int(n/10)\n",
        "if t==rev:\n",
        "    print('true')\n",
        "else:\n",
        "    print('false')"
      ],
      "execution_count": null,
      "outputs": [
        {
          "output_type": "stream",
          "text": [
            "21\n",
            "false\n"
          ],
          "name": "stdout"
        }
      ]
    },
    {
      "cell_type": "code",
      "metadata": {
        "colab": {
          "base_uri": "https://localhost:8080/"
        },
        "id": "bLIWHfQwR8qS",
        "outputId": "cd84e79d-fa55-4b3b-bd41-cd2cea8d749b"
      },
      "source": [
        "a = 'bad people are not bad'\n",
        "b = a.split()\n",
        "for i in b:\n",
        "    print(i[::-1], end=\" \")"
      ],
      "execution_count": null,
      "outputs": [
        {
          "output_type": "stream",
          "text": [
            "dab elpoep era ton dab "
          ],
          "name": "stdout"
        }
      ]
    },
    {
      "cell_type": "code",
      "metadata": {
        "colab": {
          "base_uri": "https://localhost:8080/"
        },
        "id": "4riGMMzQSD_o",
        "outputId": "ce627fbe-e01c-4392-c8f6-0120a6eb6815"
      },
      "source": [
        "def prime(i):\n",
        "    r = 0\n",
        "    for t in range(1,i):\n",
        "        if i%t == 0:\n",
        "            r = r+1\n",
        "    if r==1:\n",
        "        print(i,end = \" \")\n",
        "a = int(input())\n",
        "for l in range(a):\n",
        "    prime(l)"
      ],
      "execution_count": null,
      "outputs": [
        {
          "output_type": "stream",
          "text": [
            "10\n",
            "2 3 5 7 "
          ],
          "name": "stdout"
        }
      ]
    },
    {
      "cell_type": "code",
      "metadata": {
        "id": "dWj0ZkNbTeHV"
      },
      "source": [
        "a = 4\n",
        "b = '1 2 3 4'\n",
        "b1 = b.split()\n",
        "b2 = list(map(int,b1))\n"
      ],
      "execution_count": null,
      "outputs": []
    },
    {
      "cell_type": "code",
      "metadata": {
        "colab": {
          "base_uri": "https://localhost:8080/"
        },
        "id": "y1QPDvAYUMab",
        "outputId": "a4ef6132-8326-40ce-81ed-7f04e80cde66"
      },
      "source": [
        "b2"
      ],
      "execution_count": null,
      "outputs": [
        {
          "output_type": "execute_result",
          "data": {
            "text/plain": [
              "[1, 2, 3, 4]"
            ]
          },
          "metadata": {},
          "execution_count": 37
        }
      ]
    },
    {
      "cell_type": "code",
      "metadata": {
        "colab": {
          "base_uri": "https://localhost:8080/"
        },
        "id": "tz6oL_WXUZcB",
        "outputId": "65519d58-2d87-401e-b943-7b710b11051f"
      },
      "source": [
        "a = int(input())\n",
        "b = input()\n",
        "b1 = b.split()\n",
        "b2 = list(map(int,b1))\n",
        "c = input()\n",
        "c1 = c.split()\n",
        "c2 = list(map(int,c1))\n",
        "d = c2[0]\n",
        "lpp = b2.index(d)\n",
        "print(lpp)"
      ],
      "execution_count": null,
      "outputs": [
        {
          "output_type": "stream",
          "text": [
            "4\n",
            "1 2 3 4\n",
            "4 3 2 1\n",
            "1\n"
          ],
          "name": "stdout"
        }
      ]
    },
    {
      "cell_type": "code",
      "metadata": {
        "colab": {
          "base_uri": "https://localhost:8080/"
        },
        "id": "BSVMB9ihU9L2",
        "outputId": "bf5566e2-f52c-4411-99c2-a3ce4d9bc4d1"
      },
      "source": [
        "b2 = [1, 2, 3, 4]\n",
        "c2 = [3,4,1,2]\n",
        "d = c2[0]\n",
        "p = b2.index(d)\n",
        "p"
      ],
      "execution_count": null,
      "outputs": [
        {
          "output_type": "execute_result",
          "data": {
            "text/plain": [
              "2"
            ]
          },
          "metadata": {},
          "execution_count": 46
        }
      ]
    },
    {
      "cell_type": "code",
      "metadata": {
        "id": "3Jv4Zam3WnDk",
        "colab": {
          "base_uri": "https://localhost:8080/",
          "height": 334
        },
        "outputId": "a3e754f3-901e-4442-ea32-8dfe0be17d52"
      },
      "source": [
        "def prime(nu):\n",
        "    r = 0\n",
        "    for j in range(2,nu):\n",
        "        if nu%j == 0:\n",
        "            r = r+1\n",
        "        else:\n",
        "            continue\n",
        "    if r == 0:\n",
        "        print( j, end = \" \")\n",
        "\n",
        "a = int(input())\n",
        "for i in range(1,a):\n",
        "    if a%i ==0:\n",
        "        prime(i)"
      ],
      "execution_count": null,
      "outputs": [
        {
          "output_type": "stream",
          "text": [
            "18\n"
          ],
          "name": "stdout"
        },
        {
          "output_type": "error",
          "ename": "UnboundLocalError",
          "evalue": "ignored",
          "traceback": [
            "\u001b[0;31m---------------------------------------------------------------------------\u001b[0m",
            "\u001b[0;31mUnboundLocalError\u001b[0m                         Traceback (most recent call last)",
            "\u001b[0;32m<ipython-input-7-d3a261191947>\u001b[0m in \u001b[0;36m<module>\u001b[0;34m()\u001b[0m\n\u001b[1;32m     12\u001b[0m \u001b[0;32mfor\u001b[0m \u001b[0mi\u001b[0m \u001b[0;32min\u001b[0m \u001b[0mrange\u001b[0m\u001b[0;34m(\u001b[0m\u001b[0;36m1\u001b[0m\u001b[0;34m,\u001b[0m\u001b[0ma\u001b[0m\u001b[0;34m)\u001b[0m\u001b[0;34m:\u001b[0m\u001b[0;34m\u001b[0m\u001b[0;34m\u001b[0m\u001b[0m\n\u001b[1;32m     13\u001b[0m     \u001b[0;32mif\u001b[0m \u001b[0ma\u001b[0m\u001b[0;34m%\u001b[0m\u001b[0mi\u001b[0m \u001b[0;34m==\u001b[0m\u001b[0;36m0\u001b[0m\u001b[0;34m:\u001b[0m\u001b[0;34m\u001b[0m\u001b[0;34m\u001b[0m\u001b[0m\n\u001b[0;32m---> 14\u001b[0;31m         \u001b[0mprime\u001b[0m\u001b[0;34m(\u001b[0m\u001b[0mi\u001b[0m\u001b[0;34m)\u001b[0m\u001b[0;34m\u001b[0m\u001b[0;34m\u001b[0m\u001b[0m\n\u001b[0m",
            "\u001b[0;32m<ipython-input-7-d3a261191947>\u001b[0m in \u001b[0;36mprime\u001b[0;34m(nu)\u001b[0m\n\u001b[1;32m      7\u001b[0m             \u001b[0;32mcontinue\u001b[0m\u001b[0;34m\u001b[0m\u001b[0;34m\u001b[0m\u001b[0m\n\u001b[1;32m      8\u001b[0m     \u001b[0;32mif\u001b[0m \u001b[0mr\u001b[0m \u001b[0;34m==\u001b[0m \u001b[0;36m0\u001b[0m\u001b[0;34m:\u001b[0m\u001b[0;34m\u001b[0m\u001b[0;34m\u001b[0m\u001b[0m\n\u001b[0;32m----> 9\u001b[0;31m         \u001b[0mprint\u001b[0m\u001b[0;34m(\u001b[0m \u001b[0mj\u001b[0m\u001b[0;34m,\u001b[0m \u001b[0mend\u001b[0m \u001b[0;34m=\u001b[0m \u001b[0;34m\" \"\u001b[0m\u001b[0;34m)\u001b[0m\u001b[0;34m\u001b[0m\u001b[0;34m\u001b[0m\u001b[0m\n\u001b[0m\u001b[1;32m     10\u001b[0m \u001b[0;34m\u001b[0m\u001b[0m\n\u001b[1;32m     11\u001b[0m \u001b[0ma\u001b[0m \u001b[0;34m=\u001b[0m \u001b[0mint\u001b[0m\u001b[0;34m(\u001b[0m\u001b[0minput\u001b[0m\u001b[0;34m(\u001b[0m\u001b[0;34m)\u001b[0m\u001b[0;34m)\u001b[0m\u001b[0;34m\u001b[0m\u001b[0;34m\u001b[0m\u001b[0m\n",
            "\u001b[0;31mUnboundLocalError\u001b[0m: local variable 'j' referenced before assignment"
          ]
        }
      ]
    },
    {
      "cell_type": "code",
      "metadata": {
        "colab": {
          "base_uri": "https://localhost:8080/",
          "height": 334
        },
        "id": "OeNB_sTTHW7B",
        "outputId": "6506adf8-2751-4769-a654-dc9eb6e204a7"
      },
      "source": [
        "def prime(nu):\n",
        "    r = 0\n",
        "    for j in range(2,nu):\n",
        "        if nu%j == 0:\n",
        "            r = r+1\n",
        "        else:\n",
        "            continue\n",
        "    if r == 0:\n",
        "        print( j, end =\"\")\n",
        "\n",
        "a = int(input())\n",
        "for i in range(1,a):\n",
        "    if a%i ==0:\n",
        "        prime(i)"
      ],
      "execution_count": null,
      "outputs": [
        {
          "output_type": "stream",
          "text": [
            "18\n"
          ],
          "name": "stdout"
        },
        {
          "output_type": "error",
          "ename": "UnboundLocalError",
          "evalue": "ignored",
          "traceback": [
            "\u001b[0;31m---------------------------------------------------------------------------\u001b[0m",
            "\u001b[0;31mUnboundLocalError\u001b[0m                         Traceback (most recent call last)",
            "\u001b[0;32m<ipython-input-8-a0c209d861f4>\u001b[0m in \u001b[0;36m<module>\u001b[0;34m()\u001b[0m\n\u001b[1;32m     12\u001b[0m \u001b[0;32mfor\u001b[0m \u001b[0mi\u001b[0m \u001b[0;32min\u001b[0m \u001b[0mrange\u001b[0m\u001b[0;34m(\u001b[0m\u001b[0;36m1\u001b[0m\u001b[0;34m,\u001b[0m\u001b[0ma\u001b[0m\u001b[0;34m)\u001b[0m\u001b[0;34m:\u001b[0m\u001b[0;34m\u001b[0m\u001b[0;34m\u001b[0m\u001b[0m\n\u001b[1;32m     13\u001b[0m     \u001b[0;32mif\u001b[0m \u001b[0ma\u001b[0m\u001b[0;34m%\u001b[0m\u001b[0mi\u001b[0m \u001b[0;34m==\u001b[0m\u001b[0;36m0\u001b[0m\u001b[0;34m:\u001b[0m\u001b[0;34m\u001b[0m\u001b[0;34m\u001b[0m\u001b[0m\n\u001b[0;32m---> 14\u001b[0;31m         \u001b[0mprime\u001b[0m\u001b[0;34m(\u001b[0m\u001b[0mi\u001b[0m\u001b[0;34m)\u001b[0m\u001b[0;34m\u001b[0m\u001b[0;34m\u001b[0m\u001b[0m\n\u001b[0m",
            "\u001b[0;32m<ipython-input-8-a0c209d861f4>\u001b[0m in \u001b[0;36mprime\u001b[0;34m(nu)\u001b[0m\n\u001b[1;32m      7\u001b[0m             \u001b[0;32mcontinue\u001b[0m\u001b[0;34m\u001b[0m\u001b[0;34m\u001b[0m\u001b[0m\n\u001b[1;32m      8\u001b[0m     \u001b[0;32mif\u001b[0m \u001b[0mr\u001b[0m \u001b[0;34m==\u001b[0m \u001b[0;36m0\u001b[0m\u001b[0;34m:\u001b[0m\u001b[0;34m\u001b[0m\u001b[0;34m\u001b[0m\u001b[0m\n\u001b[0;32m----> 9\u001b[0;31m         \u001b[0mprint\u001b[0m\u001b[0;34m(\u001b[0m \u001b[0mj\u001b[0m\u001b[0;34m,\u001b[0m \u001b[0mend\u001b[0m \u001b[0;34m=\u001b[0m\u001b[0;34m\"\"\u001b[0m\u001b[0;34m)\u001b[0m\u001b[0;34m\u001b[0m\u001b[0;34m\u001b[0m\u001b[0m\n\u001b[0m\u001b[1;32m     10\u001b[0m \u001b[0;34m\u001b[0m\u001b[0m\n\u001b[1;32m     11\u001b[0m \u001b[0ma\u001b[0m \u001b[0;34m=\u001b[0m \u001b[0mint\u001b[0m\u001b[0;34m(\u001b[0m\u001b[0minput\u001b[0m\u001b[0;34m(\u001b[0m\u001b[0;34m)\u001b[0m\u001b[0;34m)\u001b[0m\u001b[0;34m\u001b[0m\u001b[0;34m\u001b[0m\u001b[0m\n",
            "\u001b[0;31mUnboundLocalError\u001b[0m: local variable 'j' referenced before assignment"
          ]
        }
      ]
    },
    {
      "cell_type": "code",
      "metadata": {
        "colab": {
          "base_uri": "https://localhost:8080/"
        },
        "id": "RYJ8BlQEO1zQ",
        "outputId": "d9fc6da0-77f1-4035-e49c-7e2f0e9dd58d"
      },
      "source": [
        "a = input()\n",
        "d = list(a)\n",
        "c = len(a)\n",
        "b = 'aeiouAEIOU'\n",
        "r = 0\n",
        "for i in d:\n",
        "    if i in b:\n",
        "        r = r+1\n",
        "if r==c:\n",
        "    print(-1)\n",
        "else:\n",
        "    for i in d[::-1]:\n",
        "      if i in b:\n",
        "        continue\n",
        "      else:\n",
        "        print(i,end=\"\")"
      ],
      "execution_count": null,
      "outputs": [
        {
          "output_type": "stream",
          "text": [
            "aeiou\n",
            "-1\n"
          ],
          "name": "stdout"
        }
      ]
    },
    {
      "cell_type": "code",
      "metadata": {
        "colab": {
          "base_uri": "https://localhost:8080/"
        },
        "id": "mc0zt4VoVwus",
        "outputId": "d7a6f545-1b84-4373-c535-c706417c3298"
      },
      "source": [
        "a = 'abd ab'\n",
        "b = a.split()\n",
        "b1 = len(b[0])\n",
        "b2 = len(b[1])\n",
        "r = 0\n",
        "if b1>b2:\n",
        "    a1 = b[0]\n",
        "    a2 = b[1]\n",
        "else:\n",
        "    a1 = b[1]\n",
        "    a2 = b[0]\n",
        "le = len(a2)\n",
        "for i in a2:\n",
        "    if i in a1:\n",
        "        r = r+1\n",
        "if r == le:\n",
        "    print('Yes')\n",
        "else:\n",
        "    print('No')"
      ],
      "execution_count": null,
      "outputs": [
        {
          "output_type": "stream",
          "text": [
            "Yes\n",
            "2\n"
          ],
          "name": "stdout"
        }
      ]
    },
    {
      "cell_type": "code",
      "metadata": {
        "colab": {
          "base_uri": "https://localhost:8080/"
        },
        "id": "b1VYTvtbXCCX",
        "outputId": "9fda2626-a2fb-446e-9bbe-0f3d2e392169"
      },
      "source": [
        "a = input()\n",
        "b = input().split()\n",
        "b = list(map(int,b))\n",
        "c = input().split()\n",
        "c = list(map(int,c))\n",
        "b.sort()\n",
        "c.sort(reverse=True)\n",
        "d = b+c\n",
        "print(d)"
      ],
      "execution_count": null,
      "outputs": [
        {
          "output_type": "stream",
          "name": "stdout",
          "text": [
            "23 15 16\n",
            "357 65 10\n",
            "[15, 16, 23, 357, 65, 10]\n"
          ]
        }
      ]
    },
    {
      "cell_type": "code",
      "metadata": {
        "colab": {
          "base_uri": "https://localhost:8080/"
        },
        "id": "P0IicA3qXITk",
        "outputId": "a63cb701-1858-4a67-c45c-107f5d89b5c0"
      },
      "source": [
        "def lis_deic(a):\n",
        "    dic_b = {a[i]:int(a[i+1]) for i in range(0,len(a),2)}\n",
        "    return dic_b\n",
        "a = 5\n",
        "b = 'Karthik 23000 rohan 81734 varshini 12343'\n",
        "c = b.split()\n",
        "d = lis_deic(c)\n",
        "print(d)\n"
      ],
      "execution_count": null,
      "outputs": [
        {
          "output_type": "stream",
          "name": "stdout",
          "text": [
            "{'Karthik': 23000, 'rohan': 81734, 'varshini': 12343}\n"
          ]
        }
      ]
    },
    {
      "cell_type": "code",
      "metadata": {
        "colab": {
          "base_uri": "https://localhost:8080/"
        },
        "id": "9T79ZAlY8u9z",
        "outputId": "e33d0513-fceb-4496-88cc-064983f56430"
      },
      "source": [
        "def sal_cal(l):\n",
        "    df = int(l[-1])*int(l[-2])\n",
        "    print(l)\n",
        "    l.pop(-1)\n",
        "    l.pop(-1)\n",
        "    l.append(df)\n",
        "    for i in l:\n",
        "        print(i)\n",
        "a = int(input())\n",
        "b = list()\n",
        "c = list()\n",
        "for i in range(a):\n",
        "    a = input()\n",
        "    b.append(a)\n",
        "for j in b:\n",
        "    re = j.split()\n",
        "    c.append(re)\n",
        "  \n",
        "for k in c:\n",
        "    sal_cal(k)"
      ],
      "execution_count": null,
      "outputs": [
        {
          "output_type": "stream",
          "name": "stdout",
          "text": [
            "1\n",
            "1 Raja Principal 1000 240\n",
            "['1', 'Raja', 'Principal', '1000', '240']\n",
            "1\n",
            "Raja\n",
            "Principal\n",
            "240000\n"
          ]
        }
      ]
    },
    {
      "cell_type": "code",
      "metadata": {
        "id": "7XP5uELB9Dp_"
      },
      "source": [
        "1 Raja Principal 1000 240\n",
        "2 Rani Vice-Principal 900 250\n",
        "\n",
        "l.pop(-1)\n",
        "    l.pop(-2)\n",
        "    l.append(df)\n",
        "    for i in l:\n",
        "        print(i)"
      ],
      "execution_count": null,
      "outputs": []
    },
    {
      "cell_type": "code",
      "metadata": {
        "id": "k-EfctR2-DWF",
        "colab": {
          "base_uri": "https://localhost:8080/",
          "height": 69
        },
        "outputId": "af737349-e029-4ded-84cf-3abd2a7d5d34"
      },
      "source": [
        "'''\n",
        "def sal_cal(l):\n",
        "    df = int(l[-1])*int(l[-2])\n",
        "    #print(l)\n",
        "    l.pop(-1)\n",
        "    l.pop(-1)\n",
        "    l.append(df)\n",
        "    for i in l:\n",
        "        print(i)\n",
        "    print('\\n')\n",
        "a = int(input())\n",
        "b = list()\n",
        "c = list()\n",
        "for i in range(a):\n",
        "    a = input()\n",
        "    b.append(a)\n",
        "for j in b:\n",
        "    re = j.split()\n",
        "    c.append(re)\n",
        "  \n",
        "for k in c:\n",
        "    sal_cal(k)\n",
        "'''"
      ],
      "execution_count": null,
      "outputs": [
        {
          "output_type": "execute_result",
          "data": {
            "application/vnd.google.colaboratory.intrinsic+json": {
              "type": "string"
            },
            "text/plain": [
              "\"\\ndef sal_cal(l):\\n    df = int(l[-1])*int(l[-2])\\n    #print(l)\\n    l.pop(-1)\\n    l.pop(-1)\\n    l.append(df)\\n    for i in l:\\n        print(i)\\n    print('\\n')\\na = int(input())\\nb = list()\\nc = list()\\nfor i in range(a):\\n    a = input()\\n    b.append(a)\\nfor j in b:\\n    re = j.split()\\n    c.append(re)\\n  \\nfor k in c:\\n    sal_cal(k)\\n\""
            ]
          },
          "metadata": {},
          "execution_count": 1
        }
      ]
    },
    {
      "cell_type": "code",
      "metadata": {
        "colab": {
          "base_uri": "https://localhost:8080/",
          "height": 297
        },
        "id": "zhDCdHQHMq22",
        "outputId": "03156a0c-c0ec-45df-9230-3b769b60dfec"
      },
      "source": [
        "import pandas as pd \n",
        "a = 'guvigeek'\n",
        "b = list(a)\n",
        "df = pd.DataFrame(b)\n",
        "df"
      ],
      "execution_count": null,
      "outputs": [
        {
          "output_type": "execute_result",
          "data": {
            "text/html": [
              "<div>\n",
              "<style scoped>\n",
              "    .dataframe tbody tr th:only-of-type {\n",
              "        vertical-align: middle;\n",
              "    }\n",
              "\n",
              "    .dataframe tbody tr th {\n",
              "        vertical-align: top;\n",
              "    }\n",
              "\n",
              "    .dataframe thead th {\n",
              "        text-align: right;\n",
              "    }\n",
              "</style>\n",
              "<table border=\"1\" class=\"dataframe\">\n",
              "  <thead>\n",
              "    <tr style=\"text-align: right;\">\n",
              "      <th></th>\n",
              "      <th>0</th>\n",
              "    </tr>\n",
              "  </thead>\n",
              "  <tbody>\n",
              "    <tr>\n",
              "      <th>0</th>\n",
              "      <td>g</td>\n",
              "    </tr>\n",
              "    <tr>\n",
              "      <th>1</th>\n",
              "      <td>u</td>\n",
              "    </tr>\n",
              "    <tr>\n",
              "      <th>2</th>\n",
              "      <td>v</td>\n",
              "    </tr>\n",
              "    <tr>\n",
              "      <th>3</th>\n",
              "      <td>i</td>\n",
              "    </tr>\n",
              "    <tr>\n",
              "      <th>4</th>\n",
              "      <td>g</td>\n",
              "    </tr>\n",
              "    <tr>\n",
              "      <th>5</th>\n",
              "      <td>e</td>\n",
              "    </tr>\n",
              "    <tr>\n",
              "      <th>6</th>\n",
              "      <td>e</td>\n",
              "    </tr>\n",
              "    <tr>\n",
              "      <th>7</th>\n",
              "      <td>k</td>\n",
              "    </tr>\n",
              "  </tbody>\n",
              "</table>\n",
              "</div>"
            ],
            "text/plain": [
              "   0\n",
              "0  g\n",
              "1  u\n",
              "2  v\n",
              "3  i\n",
              "4  g\n",
              "5  e\n",
              "6  e\n",
              "7  k"
            ]
          },
          "metadata": {},
          "execution_count": 2
        }
      ]
    },
    {
      "cell_type": "code",
      "metadata": {
        "id": "tfMIFAhXZAgI"
      },
      "source": [
        "import pandas as pd\n",
        "\n",
        "S1 = pd.Series(['NewDelhi', 'WashingtonDC', 'London', 'Paris'], index=['A', 'B', 'C', 'D'])\n",
        "\n",
        "S1['A' : 'C'] = 'ND'"
      ],
      "execution_count": null,
      "outputs": []
    },
    {
      "cell_type": "code",
      "metadata": {
        "colab": {
          "base_uri": "https://localhost:8080/"
        },
        "id": "kqVrSdcoZCxg",
        "outputId": "ff57ff8b-0d96-4bd7-8833-2e74b8efdef1"
      },
      "source": [
        "S1"
      ],
      "execution_count": null,
      "outputs": [
        {
          "output_type": "execute_result",
          "data": {
            "text/plain": [
              "A       ND\n",
              "B       ND\n",
              "C       ND\n",
              "D    Paris\n",
              "dtype: object"
            ]
          },
          "metadata": {},
          "execution_count": 22
        }
      ]
    },
    {
      "cell_type": "code",
      "metadata": {
        "colab": {
          "base_uri": "https://localhost:8080/"
        },
        "id": "nCzqxiK-ZF20",
        "outputId": "bd4c0c9e-86c5-416c-9eaf-1e66c9b059c6"
      },
      "source": [
        "import numpy as np\n",
        "\n",
        "a = np.array([1,2,3,5,8])\n",
        "\n",
        "b = np.array([0,3,4,2,1])\n",
        "\n",
        "c = a + b\n",
        "\n",
        "c = c*a\n",
        "\n",
        "print (c[2])"
      ],
      "execution_count": null,
      "outputs": [
        {
          "output_type": "stream",
          "name": "stdout",
          "text": [
            "21\n"
          ]
        }
      ]
    },
    {
      "cell_type": "code",
      "metadata": {
        "id": "nSygoMS6a1Ws"
      },
      "source": [
        ""
      ],
      "execution_count": null,
      "outputs": []
    }
  ]
}